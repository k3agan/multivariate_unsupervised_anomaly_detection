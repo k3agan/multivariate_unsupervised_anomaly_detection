{
 "cells": [
  {
   "cell_type": "code",
   "execution_count": null,
   "metadata": {},
   "outputs": [],
   "source": [
    "import numpy as np\n",
    "import pandas as pd\n",
    "import plotly as plt"
   ]
  },
  {
   "cell_type": "code",
   "execution_count": null,
   "metadata": {},
   "outputs": [],
   "source": [
    "# Create Artificial Data with Multivariate Outliers\n",
    "d1 = np.random.multivariate_normal(mean = np.array([-.5, 0]),\n",
    "                               cov = np.array([[1, 0], [0, 1]]), size = 100)\n",
    "d2 = np.random.multivariate_normal(mean = np.array([15, 10]),\n",
    "                               cov = np.array([[1, 0.3], [.3, 1]]), size = 100)\n",
    "outliers = np.array([[0, 10],[0, 9.5]])\n",
    "d = pd.DataFrame(np.concatenate([d1, d2, outliers], axis = 0), columns = ['Var 1', 'Var 2'])\n"
   ]
  },
  {
   "cell_type": "code",
   "execution_count": null,
   "metadata": {},
   "outputs": [],
   "source": [
    "################### Train Isolation Forest #################\n",
    "model  =  ensemble.IsolationForest(n_estimators=50, max_samples=500, contamination=.01, max_features=2, \n",
    "                         bootstrap=False, n_jobs=1, random_state=1, verbose=0, warm_start=False).fit(d)\n",
    "# Get Anomaly Scores and Predictions\n",
    "anomaly_score = model.decision_function(d)\n",
    "predictions = model.predict(d)\n",
    "######### Visualize Anomaly scores and Anomaly Status ########\n",
    "plt.figure(figsize = (10, 6), dpi = 150)\n",
    "s = plt.scatter(d['Var 1'], d['Var 2'], c = anomaly_score, cmap = 'coolwarm')\n",
    "plt.colorbar(s, label = 'More Negative = More Anomalous')\n",
    "plt.xlabel('Var 1', fontsize = 16)\n",
    "plt.ylabel('Var 2', fontsize = 16)\n",
    "plt.grid()\n",
    "# To Plot Predictions\n",
    "plt.figure(figsize = (10, 6), dpi = 150)\n",
    "s = plt.scatter(d['Var 1'], d['Var 2'], c = predictions, cmap = 'coolwarm')\n",
    "plt.colorbar(s, label = 'More Negative = More Anomalous')\n",
    "plt.xlabel('Var 1', fontsize = 16)\n",
    "plt.ylabel('Var 2', fontsize = 16)\n",
    "plt.grid()\n",
    "plt.title('Contamination = 0.01', weight = 'bold')"
   ]
  },
  {
   "cell_type": "code",
   "execution_count": null,
   "metadata": {},
   "outputs": [],
   "source": [
    "\n",
    "plt.figure(figsize = (10, 6), dpi = 150)\n",
    "s = plt.scatter(d['Var 1'], d['Var 2'], c = anomaly_score, cmap = 'coolwarm')\n",
    "plt.colorbar(s, label = 'More Negative = More Anomalous')\n",
    "plt.xlabel('Var 1', fontsize = 16)\n",
    "plt.ylabel('Var 2', fontsize = 16)\n",
    "plt.grid()\n",
    "# To Plot Predictions\n",
    "plt.figure(figsize = (10, 6), dpi = 150)\n",
    "s = plt.scatter(d['Var 1'], d['Var 2'], c = predictions, cmap = 'coolwarm')\n",
    "plt.colorbar(s, label = 'More Negative = More Anomalous')\n",
    "plt.xlabel('Var 1', fontsize = 16)\n",
    "plt.ylabel('Var 2', fontsize = 16)\n",
    "plt.grid()\n",
    "plt.title('Contamination = 0.01', weight = 'bold')"
   ]
  },
  {
   "cell_type": "code",
   "execution_count": null,
   "metadata": {},
   "outputs": [],
   "source": []
  }
 ],
 "metadata": {
  "kernelspec": {
   "display_name": "base",
   "language": "python",
   "name": "python3"
  },
  "language_info": {
   "codemirror_mode": {
    "name": "ipython",
    "version": 3
   },
   "file_extension": ".py",
   "mimetype": "text/x-python",
   "name": "python",
   "nbconvert_exporter": "python",
   "pygments_lexer": "ipython3",
   "version": "3.9.12"
  },
  "orig_nbformat": 4,
  "vscode": {
   "interpreter": {
    "hash": "c17c00414ce2bea59547f76802cfd8a491b82a7ed9a4aba9d98f8774c7c4fe68"
   }
  }
 },
 "nbformat": 4,
 "nbformat_minor": 2
}
